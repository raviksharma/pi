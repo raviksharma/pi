{
 "cells": [
  {
   "cell_type": "markdown",
   "metadata": {},
   "source": [
    "# Approximating pi"
   ]
  },
  {
   "cell_type": "markdown",
   "metadata": {},
   "source": [
    "A unit circle is a circle with a radius of one\n",
    "\n",
    "![caption](files/unit1_circle.jpg)\n",
    "\n"
   ]
  },
  {
   "cell_type": "markdown",
   "metadata": {},
   "source": [
    "$\\text{in the figure above}$\n",
    "\n",
    "\\begin{equation}\n",
    "AC = AB = AD = 1\\\\\n",
    "BC = d\\\\\n",
    "CD = BD = d'\\\\\n",
    "BE = EC = \\frac{d}{2}\n",
    "\\end{equation}\n",
    "\n",
    "$\\text{application of the Pythagorean Theorem}$\n",
    "\n",
    "\\begin{equation}\n",
    "AB^2 = AE^2+BE^2\\\\\n",
    "AE = \\sqrt{AB^2-BE^2}\\\\\n",
    "AE = \\sqrt{1-\\left(\\frac{d}{2}\\right)^2}\n",
    "\\end{equation}\n",
    "\n",
    "$\\text{calculating } DE$\n",
    "\n",
    "\\begin{equation}\n",
    "DE = AD-AE\\\\\n",
    "DE = 1-\\sqrt{1- \\left( \\frac{d}{2}\\right)^2}\n",
    "\\end{equation}\n",
    "\n",
    "$\\text{application of the Pythagorean Theorem}$\n",
    "\n",
    "\\begin{equation}\n",
    "DC^2 = EC^2+DE^2\n",
    "\\end{equation}\n",
    "\n",
    "$\\text{substituting } EC \\text{ and } DE$\n",
    "\n",
    "\\begin{equation}\n",
    "DC^2 = \\left(\\frac{d}{2}\\right)^2+\\left(1-\\sqrt{1- \\left( \\frac{d}{2}\\right)^2}\\right)^2\\\\\n",
    "DC^2 = \\left(\\frac{d}{2}\\right)^2+1+1-\\left( \\frac{d}{2}\\right)^2-2\\sqrt{1- \\left( \\frac{d}{2}\\right)^2}\\\\\n",
    "DC^2 = 2-2\\sqrt{1- \\left( \\frac{d}{2}\\right)^2}\\\\\n",
    "DC = \\sqrt{2-2\\sqrt{1-\\frac{d^2}{4}}}\\\\\n",
    "d' = \\sqrt{2-2\\sqrt{1-\\frac{d^2}{4}}}\n",
    "\\end{equation}\n"
   ]
  },
  {
   "cell_type": "code",
   "execution_count": null,
   "metadata": {
    "collapsed": true
   },
   "outputs": [],
   "source": []
  },
  {
   "cell_type": "code",
   "execution_count": 2,
   "metadata": {},
   "outputs": [
    {
     "name": "stdout",
     "output_type": "stream",
     "text": [
      "2.8284271247461903\n",
      "3.0614674589207187\n",
      "3.121445152258053\n",
      "3.1365484905459406\n",
      "3.140331156954739\n",
      "3.141277250932757\n",
      "3.1415138011441455\n",
      "3.1415729403678827\n",
      "3.141587725279961\n",
      "3.141591421504635\n"
     ]
    }
   ],
   "source": [
    "from math import sqrt\n",
    "\n",
    "d = sqrt(2) # length of side of a square inscribed in a unit circle.\n",
    "\n",
    "length = 10\n",
    "g = [4 * 2 ** (n - 1) for n in range(1, length + 1)] # 4,8,16,32,64,...\n",
    "for i in g:\n",
    "    d2 = sqrt(2 - 2 * sqrt(1 - (d*d) / 4))\n",
    "    print((d*i)/2)\n",
    "    d = d2\n"
   ]
  },
  {
   "cell_type": "code",
   "execution_count": null,
   "metadata": {
    "collapsed": true
   },
   "outputs": [],
   "source": []
  },
  {
   "cell_type": "code",
   "execution_count": null,
   "metadata": {
    "collapsed": true
   },
   "outputs": [],
   "source": []
  },
  {
   "cell_type": "code",
   "execution_count": null,
   "metadata": {
    "collapsed": true
   },
   "outputs": [],
   "source": []
  },
  {
   "cell_type": "code",
   "execution_count": null,
   "metadata": {
    "collapsed": true
   },
   "outputs": [],
   "source": []
  },
  {
   "cell_type": "code",
   "execution_count": null,
   "metadata": {
    "collapsed": true
   },
   "outputs": [],
   "source": []
  }
 ],
 "metadata": {
  "kernelspec": {
   "display_name": "Python 3",
   "language": "python",
   "name": "python3"
  },
  "language_info": {
   "codemirror_mode": {
    "name": "ipython",
    "version": 3
   },
   "file_extension": ".py",
   "mimetype": "text/x-python",
   "name": "python",
   "nbconvert_exporter": "python",
   "pygments_lexer": "ipython3",
   "version": "3.6.1"
  }
 },
 "nbformat": 4,
 "nbformat_minor": 2
}
