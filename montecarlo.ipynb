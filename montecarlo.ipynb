{
 "cells": [
  {
   "cell_type": "markdown",
   "metadata": {},
   "source": [
    "${\\Large Monte \\enspace Carlo \\enspace Simulation}$\n",
    "\n",
    "You can learn more about the method here\n",
    "- https://en.wikipedia.org/wiki/Pi#Monte_Carlo_methods\n",
    "- https://en.wikipedia.org/wiki/Approximations_of_%CF%80#Summing_a_circle's_area"
   ]
  },
  {
   "cell_type": "markdown",
   "metadata": {
    "collapsed": true
   },
   "source": [
    "Draw a circle inscribed in a square.\n",
    "\n",
    "![caption](files/square_circle.png)\n",
    "\n",
    "In the figure above,\n",
    "\n",
    "Area of circle\n",
    "\n",
    "\\begin{aligned}\n",
    "A_c = \\pi r^2\n",
    "\\end{aligned}\n",
    "\n",
    "Area of square\n",
    "\n",
    "\\begin{aligned}\n",
    "A_s = (2r)^2\n",
    "\\end{aligned}\n",
    "\n",
    "Ratio of Area of circle to the Area of square\n",
    "\n",
    "\\begin{aligned}\n",
    "\\frac{A_c}{A_s} & = \\frac{\\pi r^2}{(2r)^2} \\\\ \n",
    "\\frac{A_c}{A_s} & = \\frac{\\pi}{4}\n",
    "\\end{aligned}\n",
    "\n",
    "Hence\n",
    "\n",
    "\\begin{aligned}\n",
    "\\pi & = 4\\frac{A_c}{A_s}\n",
    "\\end{aligned}\n",
    "\n",
    "If we randomly place dots in the square. The ratio of dots inside the circle to the total number of dots will approximately equal \\pi /4."
   ]
  },
  {
   "cell_type": "markdown",
   "metadata": {},
   "source": [
    "If a circle with radius r is drawn with its center at the point (0, 0), any point whose distance from the origin is less than r will fall inside the circle. The Pythagorean theorem gives the distance from any point (x, y) to the center.\n",
    "\n",
    "\\begin{aligned}\n",
    "d & = \\sqrt{x^2+y^2}\n",
    "\\end{aligned}\n",
    "\n",
    "Hence\n",
    "\n",
    "\\begin{aligned}\n",
    "d \\leq r, & & \\text{dot is inside the circle} \\\\ \n",
    "d > r, & & \\text{dot is outside the circle}\n",
    "\\end{aligned}\n",
    "\n",
    "We will use r=1 and only a quarter of a circle to demonstrate this."
   ]
  },
  {
   "cell_type": "code",
   "execution_count": 101,
   "metadata": {},
   "outputs": [
    {
     "name": "stdout",
     "output_type": "stream",
     "text": [
      "2 4.000000\n",
      "4 2.000000\n",
      "8 3.000000\n",
      "16 3.000000\n",
      "32 2.625000\n",
      "64 2.937500\n",
      "128 2.937500\n",
      "256 3.046875\n",
      "512 3.187500\n",
      "1024 3.152344\n",
      "2048 3.156250\n",
      "4096 3.125000\n",
      "8192 3.132324\n",
      "16384 3.126709\n",
      "32768 3.140747\n",
      "65536 3.141724\n"
     ]
    }
   ],
   "source": [
    "import math\n",
    "import random\n",
    "\n",
    "r = 1  # unit circle\n",
    "dots_inside = 0\n",
    "j = 1\n",
    "for i in range(1, 100001):\n",
    "    x = random.random()\n",
    "    y = random.random()\n",
    "    d = math.sqrt(x**2 + y**2)\n",
    "    if d <= r:\n",
    "        dots_inside += 1\n",
    "    if (i % math.pow(2,j)) == 0:\n",
    "        print(i, '%0.6f' % (4.0*(dots_inside/i)))\n",
    "        j += 1"
   ]
  }
 ],
 "metadata": {
  "kernelspec": {
   "display_name": "Python 3",
   "language": "python",
   "name": "python3"
  },
  "language_info": {
   "codemirror_mode": {
    "name": "ipython",
    "version": 3
   },
   "file_extension": ".py",
   "mimetype": "text/x-python",
   "name": "python",
   "nbconvert_exporter": "python",
   "pygments_lexer": "ipython3",
   "version": "3.6.2"
  }
 },
 "nbformat": 4,
 "nbformat_minor": 2
}
