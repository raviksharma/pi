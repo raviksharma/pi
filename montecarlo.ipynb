{
 "cells": [
  {
   "cell_type": "markdown",
   "metadata": {},
   "source": [
    "${\\Large Monte \\enspace Carlo \\enspace Simulation}$\n",
    "\n",
    "You can learn more about the method here\n",
    "- https://en.wikipedia.org/wiki/Pi#Monte_Carlo_methods\n",
    "- https://en.wikipedia.org/wiki/Approximations_of_%CF%80#Summing_a_circle's_area"
   ]
  },
  {
   "cell_type": "markdown",
   "metadata": {
    "collapsed": true
   },
   "source": [
    "Draw a circle inscribed in a square.\n",
    "\n",
    "![caption](files/square_circle.png)\n",
    "\n",
    "In the figure above,\n",
    "\n",
    "Area of circle\n",
    "\n",
    "\\begin{aligned}\n",
    "A_c = \\pi r^2\n",
    "\\end{aligned}\n",
    "\n",
    "Area of square\n",
    "\n",
    "\\begin{aligned}\n",
    "A_s = (2r)^2\n",
    "\\end{aligned}\n",
    "\n",
    "Ratio of Area of circle to the Area of square\n",
    "\n",
    "\\begin{aligned}\n",
    "\\frac{A_c}{A_s} & = \\frac{\\pi r^2}{(2r)^2} \\\\ \n",
    "\\frac{A_c}{A_s} & = \\frac{\\pi}{4}\n",
    "\\end{aligned}\n",
    "\n",
    "Hence\n",
    "\n",
    "\\begin{aligned}\n",
    "\\pi & = 4\\frac{A_c}{A_s}\n",
    "\\end{aligned}\n",
    "\n",
    "If we randomly place dots in the square. The ratio of dots inside the circle to the total number of dots will approximately equal \\pi /4."
   ]
  },
  {
   "cell_type": "markdown",
   "metadata": {},
   "source": [
    "If a circle with radius r is drawn with its center at the point (0, 0), any point whose distance from the origin is less than r will fall inside the circle. The Pythagorean theorem gives the distance from any point (x, y) to the center.\n",
    "\n",
    "\\begin{aligned}\n",
    "d & = \\sqrt{x^2+y^2}\n",
    "\\end{aligned}\n",
    "\n",
    "Hence\n",
    "\\begin{aligned}\n",
    "d \\leq r, & & \\text{dot is inside the circle} \\\\ \n",
    "d > r, & & \\text{dot is outside the circle}\n",
    "\\end{aligned}\n",
    "\n",
    "Test\n",
    "\\begin{aligned}\n",
    "DE & = AD-AE \\\\ \n",
    "DE & = 1-\\sqrt{1- \\left( \\frac{d}{2}\\right)^2}\n",
    "\\end{aligned}"
   ]
  },
  {
   "cell_type": "code",
   "execution_count": 87,
   "metadata": {},
   "outputs": [
    {
     "name": "stdout",
     "output_type": "stream",
     "text": [
      "10000 3.112000\n",
      "20000 3.126000\n",
      "30000 3.129867\n",
      "40000 3.130600\n",
      "50000 3.131920\n",
      "60000 3.138267\n",
      "70000 3.135086\n",
      "80000 3.138300\n",
      "90000 3.139333\n",
      "100000 3.143640\n"
     ]
    }
   ],
   "source": [
    "r = 1  # unit circle\n",
    "dots_inside = 0\n",
    "for i in range(1, 100001):\n",
    "    x = random.random()\n",
    "    y = random.random()\n",
    "    d = math.sqrt(x**2 + y**2)\n",
    "    if d <= r:\n",
    "        dots_inside += 1\n",
    "    if (i % 10000) is 0:\n",
    "        print(i, '%0.6f' % (4.0*(dots_inside/i)))\n"
   ]
  }
 ],
 "metadata": {
  "kernelspec": {
   "display_name": "Python 3",
   "language": "python",
   "name": "python3"
  },
  "language_info": {
   "codemirror_mode": {
    "name": "ipython",
    "version": 3
   },
   "file_extension": ".py",
   "mimetype": "text/x-python",
   "name": "python",
   "nbconvert_exporter": "python",
   "pygments_lexer": "ipython3",
   "version": "3.6.2"
  }
 },
 "nbformat": 4,
 "nbformat_minor": 2
}
