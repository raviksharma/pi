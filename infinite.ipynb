{
 "cells": [
  {
   "cell_type": "markdown",
   "id": "439a295c",
   "metadata": {},
   "source": [
    "${\\Large Leibniz\\enspace formula}$\n",
    "\n",
    "$\\text{You can learn more about the method here}$\n",
    "- https://en.wikipedia.org/wiki/Leibniz_formula_for_%CF%80\n",
    "\n",
    "\\begin{aligned}\n",
    "1-\\frac{1}{3}+\\frac{1}{5}-\\frac{1}{7}+\\frac{1}{9} -  \\cdot\\cdot\\cdot = \\frac{\\pi}{4}\n",
    "\\end{aligned}"
   ]
  },
  {
   "cell_type": "code",
   "execution_count": 32,
   "id": "35b53baa",
   "metadata": {},
   "outputs": [
    {
     "name": "stdout",
     "output_type": "stream",
     "text": [
      "4.0\n",
      "2.666666666666667\n",
      "3.466666666666667\n",
      "2.8952380952380956\n",
      "3.3396825396825403\n",
      "2.9760461760461765\n",
      "3.2837384837384844\n",
      "3.017071817071818\n",
      "3.2523659347188767\n",
      "3.0418396189294032\n"
     ]
    }
   ],
   "source": [
    "k = 1\n",
    "s = 0\n",
    "for i in range(1, 20, 2):\n",
    "    s = s+k*(1/i)\n",
    "    print(4*s)\n",
    "    k = k*-1"
   ]
  },
  {
   "cell_type": "markdown",
   "id": "526896ef",
   "metadata": {},
   "source": [
    "***\n",
    "${\\Large Viète's \\enspace formula}$\n",
    "\n",
    "$\\text{You can learn more about the method here}$\n",
    "- https://en.wikipedia.org/wiki/Vi%C3%A8te%27s_formula\n",
    "\n",
    "\\begin{aligned}\n",
    "\\frac{2}{\\pi} = \\frac{\\sqrt{2}}{2} \\cdot \\frac{\\sqrt{2+\\sqrt{2}}}{2} \\cdot \\frac{\\sqrt{2+\\sqrt{2+\\sqrt{2}}}}{2} \\cdot  \\cdot  \\cdot\n",
    "\\end{aligned}"
   ]
  },
  {
   "cell_type": "code",
   "execution_count": 45,
   "id": "5b7b9485",
   "metadata": {},
   "outputs": [
    {
     "name": "stdout",
     "output_type": "stream",
     "text": [
      "2.82842712474619\n",
      "3.0614674589207183\n",
      "3.121445152258052\n",
      "3.136548490545939\n",
      "3.1403311569547525\n",
      "3.141277250932773\n",
      "3.141513801144301\n",
      "3.1415729403670913\n",
      "3.141587725277159\n",
      "3.1415914215111997\n"
     ]
    }
   ],
   "source": [
    "from math import sqrt\n",
    "\n",
    "p = 1\n",
    "for i in range(10):\n",
    "    k = sqrt(2)\n",
    "    for j in range(i):\n",
    "        k = sqrt(2+k)\n",
    "    p = p*(k/2)\n",
    "    print(2/p)"
   ]
  },
  {
   "cell_type": "markdown",
   "id": "42c5a672",
   "metadata": {},
   "source": [
    "***\n",
    "${\\Large Wallis \\enspace product}$\n",
    "\n",
    "$\\text{You can learn more about the method here}$\n",
    "- https://en.wikipedia.org/wiki/Wallis_product\n",
    "\n",
    "\\begin{aligned}\n",
    "\\frac{\\pi}{2} = \\frac{2}{1} \\cdot \\frac{2}{3} \\cdot \\frac{4}{3} \\cdot \\frac{4}{5} \\cdot \\frac{6}{5} \\cdot \\frac{6}{7}  \\cdot  \\cdot  \\cdot\n",
    "\\end{aligned}"
   ]
  },
  {
   "cell_type": "code",
   "execution_count": 56,
   "id": "a3a43db8",
   "metadata": {},
   "outputs": [
    {
     "name": "stdout",
     "output_type": "stream",
     "text": [
      "3.133787490628159\n",
      "3.1376779009509224\n",
      "3.1389801038821132\n",
      "3.1396322219293826\n",
      "3.140023818600582\n",
      "3.1402850189403315\n",
      "3.140471657210278\n",
      "3.140611672348928\n",
      "3.1407205946107277\n"
     ]
    }
   ],
   "source": [
    "p = 1\n",
    "for n in range(1, 1000):\n",
    "    k = ((2*n)/(2*n-1))*((2*n)/(2*n+1))\n",
    "    p = p*k\n",
    "    if n%100 == 0: print(p*2)"
   ]
  },
  {
   "cell_type": "code",
   "execution_count": null,
   "id": "699d453c",
   "metadata": {},
   "outputs": [],
   "source": []
  }
 ],
 "metadata": {
  "kernelspec": {
   "display_name": "Python 3 (ipykernel)",
   "language": "python",
   "name": "python3"
  },
  "language_info": {
   "codemirror_mode": {
    "name": "ipython",
    "version": 3
   },
   "file_extension": ".py",
   "mimetype": "text/x-python",
   "name": "python",
   "nbconvert_exporter": "python",
   "pygments_lexer": "ipython3",
   "version": "3.8.9"
  }
 },
 "nbformat": 4,
 "nbformat_minor": 5
}
